{
 "cells": [
  {
   "cell_type": "code",
   "execution_count": null,
   "metadata": {},
   "outputs": [],
   "source": [
    "\"\"\"\n",
    "Downloads for data\n",
    "\"\"\"\n",
    "nltk.download('punkt')\n",
    "nltk.download('stopwords')"
   ]
  },
  {
   "cell_type": "code",
   "execution_count": null,
   "metadata": {},
   "outputs": [],
   "source": [
    "import sys\n",
    "sys.path.insert(0, '..')\n",
    "\n",
    "import pandas as pd\n",
    "\n",
    "\n",
    "clinical_notes = pd.read_csv('../data/raw/clinical_notes.csv')\n",
    "medical_transcripts = pd.read_csv('../data/raw/medical_transcripts.csv')\n",
    "\n",
    "notes_head = clinical_notes.head()\n",
    "transcripts_head = medical_transcripts.head()\n",
    "\n",
    "print(\"CLINICAL NOTES\")\n",
    "print(notes_head)\n",
    "print(\"\\n\")\n",
    "print(\"\\n\")\n",
    "print(\"MEDICAL TRANSCRIPTS\")\n",
    "print(transcripts_head)\n"
   ]
  },
  {
   "cell_type": "code",
   "execution_count": null,
   "metadata": {},
   "outputs": [],
   "source": [
    "import string\n",
    "import pandas as pd\n",
    "from collections import Counter\n",
    "from nltk.corpus import stopwords\n",
    "from nltk.tokenize import word_tokenize\n",
    "\n",
    "clinical_notes_df = pd.read_csv('../data/raw/clinical_notes.csv')\n",
    "medical_transcripts_df = pd.read_csv('../data/raw/medical_transcripts.csv')\n",
    "\n",
    "# Combining all text data into one large string for analysis\n",
    "all_text_clinical = ' '.join(clinical_notes_df['TEXT'])\n",
    "all_text_transcripts = ' '.join(medical_transcripts_df['transcription'].dropna())\n",
    "\n",
    "# Tokenizing the text\n",
    "words_clinical = word_tokenize(all_text_clinical.lower())\n",
    "words_transcripts = word_tokenize(all_text_transcripts.lower())\n",
    "\n",
    "# Removing Punctuation\n",
    "punctuation_removed_clinical = [\n",
    "    token for token in words_clinical if token not in string.punctuation\n",
    "]\n",
    "punctuation_removed_transcripts = [\n",
    "    token for token in words_transcripts if token not in string.punctuation\n",
    "]\n",
    "\n",
    "# Removing stopwords\n",
    "stop_words = set(stopwords.words('english'))\n",
    "\n",
    "tokenized_text_clinical_no_stopwords = [word for word in punctuation_removed_clinical if word not in stop_words]\n",
    "tokenized_text_transcripts_no_stopwords = [word for word in punctuation_removed_transcripts if word not in stop_words]\n",
    "\n",
    "# Counting word frequencies\n",
    "word_freq_clinical = Counter(tokenized_text_clinical_no_stopwords)\n",
    "word_freq_transcripts = Counter(tokenized_text_transcripts_no_stopwords)\n",
    "\n",
    "# Displaying the most common words\n",
    "most_common_clinical = word_freq_clinical.most_common(20)\n",
    "most_common_transcripts = word_freq_transcripts.most_common(20)\n",
    "\n",
    "# Define a list of common medication terms (extend this list as needed)\n",
    "medication_terms = ['medication', 'drug', 'dose', 'dosage', 'tablet', 'pill', 'injection', 'therapy', 'treatment']\n",
    "\n",
    "# Function to count mentions of medication-related terms\n",
    "def count_medication_mentions(word_list, terms):\n",
    "    return {term: word_list.count(term) for term in terms}\n",
    "\n",
    "medication_mentions_clinical = count_medication_mentions(words_clinical, medication_terms)\n",
    "\n",
    "medication_mentions_clinical\n"
   ]
  },
  {
   "cell_type": "code",
   "execution_count": null,
   "metadata": {},
   "outputs": [],
   "source": []
  },
  {
   "cell_type": "code",
   "execution_count": null,
   "metadata": {},
   "outputs": [],
   "source": []
  }
 ],
 "metadata": {
  "kernelspec": {
   "display_name": "venv",
   "language": "python",
   "name": "python3"
  },
  "language_info": {
   "codemirror_mode": {
    "name": "ipython",
    "version": 3
   },
   "file_extension": ".py",
   "mimetype": "text/x-python",
   "name": "python",
   "nbconvert_exporter": "python",
   "pygments_lexer": "ipython3",
   "version": "3.11.6"
  },
  "orig_nbformat": 4
 },
 "nbformat": 4,
 "nbformat_minor": 2
}
